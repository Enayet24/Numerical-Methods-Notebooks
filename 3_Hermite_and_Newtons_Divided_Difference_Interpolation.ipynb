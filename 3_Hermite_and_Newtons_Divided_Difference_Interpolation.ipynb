{
  "cells": [
    {
      "cell_type": "markdown",
      "metadata": {
        "deletable": false,
        "editable": false,
        "id": "mUa8n1tfPlva",
        "nbgrader": {
          "cell_type": "markdown",
          "checksum": "9b7261b005274f20aab5b5157815cc4f",
          "grade": false,
          "grade_id": "title",
          "locked": true,
          "schema_version": 3,
          "solution": false,
          "task": false
        }
      },
      "source": [
        "# Part 1: Hermite Interpolation\n",
        "---\n",
        "Hermite Interpolation is an example of a variant of the interpolation problem, where the interpolant matches one or more **derivatives of $f$**  at each of the nodes, in addition to the function values."
      ]
    },
    {
      "cell_type": "markdown",
      "metadata": {
        "deletable": false,
        "editable": false,
        "id": "t6HuHqs8Plva",
        "nbgrader": {
          "cell_type": "markdown",
          "checksum": "2ac7b29da925009a6e6e93ce16cd1871",
          "grade": false,
          "grade_id": "intro1",
          "locked": true,
          "schema_version": 3,
          "solution": false,
          "task": false
        }
      },
      "source": [
        "## Importing the necessary libraries"
      ]
    },
    {
      "cell_type": "code",
      "execution_count": null,
      "metadata": {
        "deletable": false,
        "editable": false,
        "id": "zaOqCWsePlvb",
        "nbgrader": {
          "cell_type": "code",
          "checksum": "b3ce57ac45d5516f69d56b4a7c02a1d6",
          "grade": false,
          "grade_id": "import",
          "locked": true,
          "schema_version": 3,
          "solution": false,
          "task": false
        }
      },
      "outputs": [],
      "source": [
        "import numpy as np\n",
        "import matplotlib.pyplot as plt\n",
        "from itertools import combinations\n",
        "from numpy.polynomial import Polynomial"
      ]
    },
    {
      "cell_type": "code",
      "source": [
        "P=Polynomial([1,2,3,4])"
      ],
      "metadata": {
        "id": "NeFqdK1_IUG9"
      },
      "execution_count": null,
      "outputs": []
    },
    {
      "cell_type": "code",
      "source": [
        "print(P.deriv(1))"
      ],
      "metadata": {
        "colab": {
          "base_uri": "https://localhost:8080/"
        },
        "id": "Ve6OSlPxMM2e",
        "outputId": "17231b3d-2762-439b-c74f-b003b0762c3d"
      },
      "execution_count": null,
      "outputs": [
        {
          "output_type": "stream",
          "name": "stdout",
          "text": [
            "2.0 + 6.0·x + 12.0·x²\n"
          ]
        }
      ]
    },
    {
      "cell_type": "markdown",
      "metadata": {
        "deletable": false,
        "editable": false,
        "id": "wR9qR23NPlvb",
        "nbgrader": {
          "cell_type": "markdown",
          "checksum": "9368014a5a45cd31c846853230dae411",
          "grade": false,
          "grade_id": "intro2",
          "locked": true,
          "schema_version": 3,
          "solution": false,
          "task": false
        }
      },
      "source": [
        "## Creating the components for Hermite interpolation\n",
        "\n",
        "For the case of Hermite Interpolation, we look for a polynomial that matches both $f'(x_i)$ and $f(x_i)$ at the nodes $x_i = x_0,\\dots,x_n$. Say you have $n+1$ data points, $(x_0, y_0), (x_1, y_1), x_2, y_2), \\dots, (x_n, y_n)$ and you happen to know the first-order derivative at all of these points, namely, $(x_0, y_0 ^\\prime ), (x_1, y_1 ^\\prime ), x_2, y_2 ^\\prime ), \\dots ,(x_n, y_n ^\\prime )$. According to hermite interpolation, since there are $2n + 2$ conditions; $n+1$ for $f(x_i)$ plus $n+1$ for $f'(x_i)$; you can fit a polynomial of order $2n+1$.\n",
        "\n",
        "General form of a $2n+1$ degree Hermite polynomial:\n",
        "\n",
        "$$p_{2n+1} = \\sum_{k=0}^{n} \\left(f(x_k)h_k(x) + f'(x_k)\\hat{h}_k(x)\\right), \\tag{1}$$\n",
        "\n",
        "where $h_k$ and $\\hat{h}_k$ are defined using Lagrange basis functions by the following equations:\n",
        "\n",
        "$$h_k(x) = (1-2(x-x_k)l^\\prime_k(x_k))l^2_k(x_k), \\tag{2}$$\n",
        "\n",
        "and\n",
        "\n",
        "$$\\hat{h}_k(x) = (x-x_k)l^2_k(x), \\tag{3}$$\n",
        "\n",
        "where the Lagrange basis function being:\n",
        "\n",
        "$$l_k(x) = \\prod_{j=0, j\\neq k}^{n} \\frac{x-x_j}{x_k-x_j}. \\tag{4}$$\n",
        "\n",
        "**Note** that, we can rewrite Equation $(2)$ in this way,\n",
        "\n",
        "\\begin{align}\n",
        "h_k(x) &= \\left(1-2(x-x_k)l^\\prime_k(x_k) \\right)l^2_k(x) \\\\\n",
        "&= \\left(1 - 2xl^\\prime_k(x_k) + 2x_kl^\\prime_k(x_k) \\right)l^2_k(x) \\\\\n",
        "&= \\left(1 + 2x_kl^\\prime_k(x_k) - 2l'_k(x_k)x \\right) l^2_k(x) \\tag{5}\n",
        "\\end{align}\n",
        "Replacing $l^\\prime_k(x_k)$ with $m$, we get:\n",
        "$$h_k(x) = (1 - 2xm + 2x_km)l^2_k(x). \\tag{6}$$\n",
        "\n",
        "## Task 1 - 2 Marks:\n",
        "\n",
        "* The functions: `l(k, x)`, `h(k, x)` and `h_hat(k, x)` calculate the corresponding $l_k$, $h_k$, and $\\hat{h}_k$, respectively.\n",
        "\n",
        "* Function `l(k, x)` has already been defined for you. Your task is to complete the `h(k, x)`, `h_hat(k, x)`, and `hermit(x, y, y_prime)` functions.\n",
        "\n",
        "* Later we will draw some plots to check if the code is working.\n",
        "\n",
        "---"
      ]
    },
    {
      "cell_type": "markdown",
      "metadata": {
        "deletable": false,
        "editable": false,
        "id": "PPIUqb63Plvc",
        "nbgrader": {
          "cell_type": "markdown",
          "checksum": "b73facf56ebe52af4d34ce6aed213204",
          "grade": false,
          "grade_id": "part01_intro",
          "locked": true,
          "schema_version": 3,
          "solution": false,
          "task": false
        }
      },
      "source": [
        "### Part 1: Calculate $l_k$\n",
        "This function uses the following equation to calculate $l_k(x)$ and returns a polynomial:\n",
        "\n",
        "$$l_k(x) = \\prod_{j=0, j\\neq k}^{n} \\frac{x-x_j}{x_k-x_j}.$$"
      ]
    },
    {
      "cell_type": "code",
      "execution_count": null,
      "metadata": {
        "deletable": false,
        "editable": false,
        "id": "hLF2Df6LPlvd",
        "nbgrader": {
          "cell_type": "code",
          "checksum": "193776fb462b953e4cc901203895dce4",
          "grade": false,
          "grade_id": "l_ans",
          "locked": true,
          "schema_version": 3,
          "solution": false,
          "task": false
        }
      },
      "outputs": [],
      "source": [
        "# Already written for you.\n",
        "\n",
        "def l(k, x):\n",
        "    n = len(x)\n",
        "    assert (k < len(x))\n",
        "\n",
        "    x_k = x[k]\n",
        "    x_copy = np.delete(x, k)\n",
        "\n",
        "    denominator = np.prod(x_copy - x_k)\n",
        "\n",
        "    coeff = []\n",
        "\n",
        "    for i in range(n):\n",
        "        coeff.append(sum([np.prod(x) for x in combinations(x_copy, i)]) * (-1)**(i) / denominator)\n",
        "\n",
        "    coeff.reverse()\n",
        "\n",
        "    return Polynomial(coeff)"
      ]
    },
    {
      "cell_type": "markdown",
      "metadata": {
        "deletable": false,
        "editable": false,
        "id": "WDJyus6iPlve",
        "nbgrader": {
          "cell_type": "markdown",
          "checksum": "2b2776844ce83abcacb6b0ba6028ccd0",
          "grade": false,
          "grade_id": "part02_intro",
          "locked": true,
          "schema_version": 3,
          "solution": false,
          "task": false
        }
      },
      "source": [
        "### Part 2: Calculate $h_k$\n",
        "This function calculates $h_k(x)$ using the following equation:\n",
        "$$h_k(x) = \\left(1 + 2x_kl^\\prime_k(x_k) - 2l'_k(x_k)x \\right) l^2_k(x).$$\n",
        "\n",
        "This equation is basically a multiplication of two polynomials.\n",
        "\n",
        "First polynomial: $1 + 2x_kl^\\prime_k(x_k) - 2l'_k(x_k)x$.\n",
        "\n",
        "Second polynomial: $l^2_k(x)$.\n",
        "\n",
        "The `coeff` variable should contain a python list of coefficient values for the **first** polynomial of the equation. These coefficient values are used to create a polynomial `p`."
      ]
    },
    {
      "cell_type": "code",
      "execution_count": null,
      "metadata": {
        "deletable": false,
        "id": "QFOHvxn4Plve",
        "nbgrader": {
          "cell_type": "code",
          "checksum": "b40e0245554b77b7aeb6e6fada5c28f9",
          "grade": false,
          "grade_id": "h_ans",
          "locked": false,
          "schema_version": 3,
          "solution": true,
          "task": false
        }
      },
      "outputs": [],
      "source": [
        "def h(k, x):\n",
        "\n",
        "    l_k = l(k,x)\n",
        "    l_k_sqr = (l_k)**2\n",
        "    l_k_prime = l_k.deriv(1)\n",
        "\n",
        "    coeff = np.array([1+2*x[k]*l_k_prime(x[k]),-2*l_k_prime(x[k])])\n",
        "\n",
        "    p = Polynomial(coeff)\n",
        "\n",
        "\n",
        "    return p * l_k_sqr"
      ]
    },
    {
      "cell_type": "code",
      "execution_count": null,
      "metadata": {
        "deletable": false,
        "editable": false,
        "id": "GzGTUWJ1Plvf",
        "nbgrader": {
          "cell_type": "code",
          "checksum": "084dac03acc384f3952f1decde3eda17",
          "grade": true,
          "grade_id": "h_test",
          "locked": true,
          "points": 1.5,
          "schema_version": 3,
          "solution": false,
          "task": false
        },
        "collapsed": true
      },
      "outputs": [],
      "source": [
        "# Test case for the h(k, x) function\n",
        "x = [3, 5, 7, 9]\n",
        "k = 2\n",
        "h_test = h(k, [3, 5, 7, 9])\n",
        "h_result = Polynomial([-2.5, 0.5]) * (l(k, x) ** 2)\n",
        "\n",
        "assert Polynomial.has_samecoef(h_result, h_test)\n",
        "assert h_result == h_test"
      ]
    },
    {
      "cell_type": "markdown",
      "metadata": {
        "deletable": false,
        "editable": false,
        "id": "M724n62yPlvf",
        "nbgrader": {
          "cell_type": "markdown",
          "checksum": "e95ffdba5dfcaf981dc8b884538cb7fa",
          "grade": false,
          "grade_id": "part03_intro",
          "locked": true,
          "schema_version": 3,
          "solution": false,
          "task": false
        }
      },
      "source": [
        "### Part 3: Calculate $\\hat{h}_k$\n",
        "This function calculates $\\hat{h}_k(x)$ using the following equation:\n",
        "\n",
        "$$\\hat{h}_k(x) = (x-x_k)l^2_k(x).$$\n",
        "\n",
        "This equation is also a multiplication of two polynomials.\n",
        "\n",
        "First polynomial: $x-x_k$.\n",
        "\n",
        "Second polynomial:  $l^2_k(x)$.\n",
        "\n",
        "The `coeff` variable should contain a python list of coefficient values for the **first** polynomial of the equation. These coefficient values are used to create a polynomial `p`."
      ]
    },
    {
      "cell_type": "code",
      "execution_count": null,
      "metadata": {
        "deletable": false,
        "id": "R0VeC9AIPlvf",
        "nbgrader": {
          "cell_type": "code",
          "checksum": "526567f27fdc6b0c693944715388aeb3",
          "grade": false,
          "grade_id": "h_hat_ans",
          "locked": false,
          "schema_version": 3,
          "solution": true,
          "task": false
        }
      },
      "outputs": [],
      "source": [
        "def h_hat(k, x):\n",
        "    # Initialize with none\n",
        "    l_k = l(k,x)\n",
        "    l_k_sqr = (l_k)**2\n",
        "\n",
        "    coeff = np.array([-x[k],1])\n",
        "\n",
        "    p = Polynomial(coeff)\n",
        "\n",
        "    return p * l_k_sqr"
      ]
    },
    {
      "cell_type": "code",
      "execution_count": null,
      "metadata": {
        "deletable": false,
        "editable": false,
        "id": "URbFerVBPlvg",
        "nbgrader": {
          "cell_type": "code",
          "checksum": "dab48dc3e3425ad92aac1fdc643320cd",
          "grade": true,
          "grade_id": "h_hat_test",
          "locked": true,
          "points": 1.5,
          "schema_version": 3,
          "solution": false,
          "task": false
        }
      },
      "outputs": [],
      "source": [
        "x = [3, 5, 7, 9]\n",
        "k = 2\n",
        "h_test = h_hat(k, [3, 5, 7, 9])\n",
        "h_result = Polynomial([-7, 1]) * (l(k, x) ** 2)\n",
        "\n",
        "assert Polynomial.has_samecoef(h_result, h_test)\n",
        "assert h_result == h_test"
      ]
    },
    {
      "cell_type": "markdown",
      "metadata": {
        "deletable": false,
        "editable": false,
        "id": "yJzRxYHuPlvg",
        "nbgrader": {
          "cell_type": "markdown",
          "checksum": "cd0d1d10b688aec869dfd36a17eda759",
          "grade": false,
          "grade_id": "part04_intro",
          "locked": true,
          "schema_version": 3,
          "solution": false,
          "task": false
        }
      },
      "source": [
        "### Part 4: The Hermite Polynomial\n",
        "This function uses the following equation:\n",
        "\n",
        "$$p_{2n+1} = \\sum_{k=0}^{n} \\left(f(x_k)h_k(x) + f'(x_k)\\hat{h}_k(x)\\right).$$\n",
        "\n",
        "The polynomial denoted by the equation is calculated by the variable `f`."
      ]
    },
    {
      "cell_type": "code",
      "execution_count": null,
      "metadata": {
        "deletable": false,
        "id": "CVWuSAIqPlvg",
        "nbgrader": {
          "cell_type": "code",
          "checksum": "238ae82cc84e0f1db6ee42946346ae4a",
          "grade": false,
          "grade_id": "part04_ans",
          "locked": false,
          "schema_version": 3,
          "solution": true,
          "task": false
        }
      },
      "outputs": [],
      "source": [
        "def hermit(x, y, y_prime):\n",
        "    assert len(x) == len(y)\n",
        "    assert len(y) == len(y_prime)\n",
        "\n",
        "    f = Polynomial([0.0])\n",
        "\n",
        "    for i in range(len(x)):\n",
        "      f+=y[i]*h(i,x)+y_prime[i]*h_hat(i,x)\n",
        "\n",
        "\n",
        "\n",
        "\n",
        "    return f"
      ]
    },
    {
      "cell_type": "markdown",
      "metadata": {
        "deletable": false,
        "editable": false,
        "id": "BZyouHLCPlvg",
        "nbgrader": {
          "cell_type": "markdown",
          "checksum": "be144e5dff21332b4b93a63e59a035c2",
          "grade": false,
          "grade_id": "plot_intro",
          "locked": true,
          "schema_version": 3,
          "solution": false,
          "task": false
        }
      },
      "source": [
        "## Testing our methods by plotting graphs.\n",
        "\n",
        "**Note:**\n",
        "\n",
        "* For each of the 5 plots, there will be 2 curves plotted: one being the original function, and the other being the interpolated curve.\n",
        "\n",
        "* The original functions are displayed in orange color, while the hermite interpolated curves are in blue.\n",
        "\n",
        "* `x`, `y`, and `y_prime` contain $x_i$, $f(x_i)$, and $f'(x_i)$ of the given nodes of the original function $f$.\n",
        "\n",
        "Upon calling the `hermit()` function, it returns a polynomial `f`. For example, for plot 1, it is called `f3`.\n",
        "\n",
        "In general, a polynomial may look like the following: $f = 1 + 2x + 3x^2$. Next, we pass in a number of $x$ values to the polynomial by calling the `.linspace()` function on the polynomial object using `f.linspace()`. This function outputs a tuple, which is stored in a variable called `data`. First element of `data` contains a 1D numpy array of $x_i$ values generated by `linspace()`, and the second element of `data` contains a 1D numpy array of the corresponding $y_i$ values outputted by our example polynomial:\n",
        "$f = 1 + 2x + 3x^2$.\n",
        "\n",
        "Using `test_x`, we generate a range of $x_i$ values to plot the original function, and `test_y` contains the corresponding $y_i$ values of the original function. For the first plot, our original function is the *sine curve*.\n",
        "\n",
        "For all the plots:\n",
        "\n",
        "`plt.plot(test_x, test_y)` plots the original function.\n",
        "\n",
        "`plt.plot(data[0], data[1])` plots the interpolated polynomial."
      ]
    },
    {
      "cell_type": "code",
      "execution_count": null,
      "metadata": {
        "deletable": false,
        "editable": false,
        "id": "I0AAKqRiPlvh",
        "nbgrader": {
          "cell_type": "code",
          "checksum": "9e619e399993ba9b52b9a5acfc6d952a",
          "grade": false,
          "grade_id": "samples",
          "locked": true,
          "schema_version": 3,
          "solution": false,
          "task": false
        }
      },
      "outputs": [],
      "source": [
        "pi      = np.pi\n",
        "x       = np.array([0.0, pi/8.0,  pi, 4.0*pi/2.0])\n",
        "y       = np.array([0.0,    1.0, 0.0,       -1.0])\n",
        "y_prime = np.array([1.0,    0.0, 1.0,        0.0])"
      ]
    },
    {
      "cell_type": "markdown",
      "metadata": {
        "deletable": false,
        "editable": false,
        "id": "CE1RRR6pPlvh",
        "nbgrader": {
          "cell_type": "markdown",
          "checksum": "62a455aacd036963d695b540c90f7cd0",
          "grade": false,
          "grade_id": "plot01",
          "locked": true,
          "schema_version": 3,
          "solution": false,
          "task": false
        }
      },
      "source": [
        "**Plot 1:** trying to interpolate a sine curve (`np.sin()`) using first 2 nodes in `x` and `y`, and their corresponding derivative in `y_prime`."
      ]
    },
    {
      "cell_type": "code",
      "execution_count": null,
      "metadata": {
        "deletable": false,
        "editable": false,
        "id": "QQPpgFHEPlvh",
        "nbgrader": {
          "cell_type": "code",
          "checksum": "6d5bb5d8680003a78893653e98f6a087",
          "grade": true,
          "grade_id": "plot01_test",
          "locked": true,
          "points": 1,
          "schema_version": 3,
          "solution": false,
          "task": false
        },
        "colab": {
          "base_uri": "https://localhost:8080/",
          "height": 430
        },
        "outputId": "9bad6dca-482c-4215-f87d-e985b76f09df"
      },
      "outputs": [
        {
          "output_type": "display_data",
          "data": {
            "text/plain": [
              "<Figure size 640x480 with 1 Axes>"
            ],
            "image/png": "[encoded data removed]"
          },
          "metadata": {}
        }
      ],
      "source": [
        "n      = 1\n",
        "f3     = hermit(x[:(n+1)], y[:(n+1)], y_prime[:(n+1)])\n",
        "data   = f3.linspace(n=50, domain=[-3, 3])\n",
        "test_x = np.linspace(-10, 10, 50, endpoint=True)\n",
        "test_y = np.sin(test_x)\n",
        "\n",
        "plt.plot(data[0], data[1])\n",
        "plt.plot(test_x, test_y)\n",
        "plt.show()"
      ]
    },
    {
      "cell_type": "markdown",
      "metadata": {
        "deletable": false,
        "editable": false,
        "id": "W7v9mEcLPlvh",
        "nbgrader": {
          "cell_type": "markdown",
          "checksum": "d8f7bf96ae4f35419f880d25e72cff09",
          "grade": false,
          "grade_id": "plot02",
          "locked": true,
          "schema_version": 3,
          "solution": false,
          "task": false
        }
      },
      "source": [
        "**Plot 2:** trying to interpolate a sine curve (`np.sin()`) using first 3 nodes in `x` and `y` and their corresponding derivative in `y_prime`."
      ]
    },
    {
      "cell_type": "code",
      "execution_count": null,
      "metadata": {
        "deletable": false,
        "editable": false,
        "id": "qnNNOyC5Plvh",
        "nbgrader": {
          "cell_type": "code",
          "checksum": "25f490548e99af7d5fccb9fd5c653e80",
          "grade": true,
          "grade_id": "plot02_ans",
          "locked": true,
          "points": 1,
          "schema_version": 3,
          "solution": false,
          "task": false
        },
        "colab": {
          "base_uri": "https://localhost:8080/",
          "height": 430
        },
        "outputId": "10322b58-2822-41e0-9a14-3c06ea38b762"
      },
      "outputs": [
        {
          "output_type": "display_data",
          "data": {
            "text/plain": [
              "<Figure size 640x480 with 1 Axes>"
            ],
            "image/png": "[encoded data removed]"
          },
          "metadata": {}
        }
      ],
      "source": [
        "n      = 2\n",
        "f5     = hermit(x[:(n+1)], y[:(n+1)], y_prime[:(n+1)])\n",
        "data   = f5.linspace(n=100, domain=[-0.85, 2.5])\n",
        "test_x = np.linspace(-5*pi, 5*pi, 100, endpoint=True)\n",
        "test_y = np.sin(test_x)\n",
        "\n",
        "plt.plot(test_x, test_y) # 25-\n",
        "plt.plot(data[0], data[1]) # 10-33\n",
        "plt.show()\n"
      ]
    },
    {
      "cell_type": "markdown",
      "metadata": {
        "deletable": false,
        "editable": false,
        "id": "InK1vx-bPlvi",
        "nbgrader": {
          "cell_type": "markdown",
          "checksum": "aae683a514e99dfecaa8672e1d6a4cb3",
          "grade": false,
          "grade_id": "plot03",
          "locked": true,
          "schema_version": 3,
          "solution": false,
          "task": false
        }
      },
      "source": [
        "**Plot 3:** trying to interpolate a sine curve (`np.sin()`) using first 4 nodes in `x` and `y` and their corresponding derivative in `y_prime`."
      ]
    },
    {
      "cell_type": "code",
      "execution_count": null,
      "metadata": {
        "deletable": false,
        "editable": false,
        "id": "eondZ70xPlvi",
        "nbgrader": {
          "cell_type": "code",
          "checksum": "29fc16454184db75748c0381eff20504",
          "grade": true,
          "grade_id": "plot03_ans",
          "locked": true,
          "points": 1,
          "schema_version": 3,
          "solution": false,
          "task": false
        }
      },
      "outputs": [],
      "source": [
        "n      = 3\n",
        "f7     = hermit(x[:(n+1)], y[:(n+1)], y_prime[:(n+1)])\n",
        "data   = f7.linspace(n=50, domain=[-0.45, 3.3])\n",
        "test_x = np.linspace(-6*pi, 6*pi, 50, endpoint=True)\n",
        "test_y = np.sin(test_x)\n",
        "\n",
        "plt.plot(data[0], data[1])\n",
        "plt.plot(test_x, test_y)\n",
        "plt.show()\n"
      ]
    },
    {
      "cell_type": "markdown",
      "metadata": {
        "deletable": false,
        "editable": false,
        "id": "qR1mUG58Plvi",
        "nbgrader": {
          "cell_type": "markdown",
          "checksum": "d8edc2554aa6f2946081a47711e0f556",
          "grade": false,
          "grade_id": "plot04",
          "locked": true,
          "schema_version": 3,
          "solution": false,
          "task": false
        }
      },
      "source": [
        "**Plot 4:** trying to interpolate an exponential curve (`np.exp()`) using all nodes in `x` and `y` and their corresponding derivatives in `y_prime`."
      ]
    },
    {
      "cell_type": "code",
      "execution_count": null,
      "metadata": {
        "deletable": false,
        "editable": false,
        "id": "tMgsKsC9Plvi",
        "nbgrader": {
          "cell_type": "code",
          "checksum": "4978eef584205c7563997760c20241c6",
          "grade": true,
          "grade_id": "plot04_test",
          "locked": true,
          "points": 1,
          "schema_version": 3,
          "solution": false,
          "task": false
        }
      },
      "outputs": [],
      "source": [
        "#defining new set of given node information: x, y and y'\n",
        "x       = np.array([0.0, 1.0,          2.0       ])\n",
        "y       = np.array([1.0, 2.71828183,  54.59815003])\n",
        "y_prime = np.array([0.0, 5.43656366, 218.39260013])\n",
        "\n",
        "\n",
        "f7      = hermit( x, y, y_prime)\n",
        "data    = f7.linspace(n=50, domain=[-0.7, 2.45])\n",
        "test_x  = np.linspace(-0.5, 2.2, 50, endpoint=True)\n",
        "test_y  = np.exp(test_x**2)\n",
        "\n",
        "plt.plot(data[0], data[1])\n",
        "plt.plot(test_x, test_y)\n",
        "plt.show()\n",
        "\n"
      ]
    },
    {
      "cell_type": "markdown",
      "metadata": {
        "deletable": false,
        "editable": false,
        "id": "DYVL-_XcPlvi",
        "nbgrader": {
          "cell_type": "markdown",
          "checksum": "5419db887410ebe73b42fa5f21ffc50e",
          "grade": false,
          "grade_id": "plot05",
          "locked": true,
          "schema_version": 3,
          "solution": false,
          "task": false
        }
      },
      "source": [
        "**Plot 5:** trying to interpolate $y = (x-3)^2 + 1$ using all nodes in `x` and `y` and their corresponding derivatives in `y_prime`.\n",
        "\n",
        "For this plot you might be able to see only one curve due to the two curves overlapping. This means that our polynomial is accurately interpolating the original function.\n"
      ]
    },
    {
      "cell_type": "code",
      "execution_count": null,
      "metadata": {
        "deletable": false,
        "editable": false,
        "id": "tuHX_czoPlvj",
        "nbgrader": {
          "cell_type": "code",
          "checksum": "92cc6293f29ebf42544cedf49e4c1fc5",
          "grade": true,
          "grade_id": "plot05_test",
          "locked": true,
          "points": 3,
          "schema_version": 3,
          "solution": false,
          "task": false
        }
      },
      "outputs": [],
      "source": [
        "#defining new set of given node information: x, y and y'\n",
        "x       = np.array([1.0, 3.0, 5.0])\n",
        "y       = np.array([5.0, 1.0, 5.0])\n",
        "y_prime = np.array([-4.0, 0.0, 4.0])\n",
        "\n",
        "f7      = hermit( x, y, y_prime)\n",
        "data    = f7.linspace(n=50, domain=[-11, 10.5])\n",
        "test_x  = np.linspace(-10, 10, 50, endpoint=True)\n",
        "test_y  = (test_x-3)**2 + 1\n",
        "\n",
        "plt.plot(data[0], data[1])\n",
        "plt.plot(test_x, test_y)\n",
        "plt.show()"
      ]
    },
    {
      "cell_type": "markdown",
      "metadata": {
        "deletable": false,
        "editable": false,
        "id": "UgP_TWwOPlvj",
        "nbgrader": {
          "cell_type": "markdown",
          "checksum": "c07a0720672d1b686830ce5cef78046c",
          "grade": false,
          "grade_id": "cell-580b64f506c61583",
          "locked": true,
          "schema_version": 3,
          "solution": false,
          "task": false
        }
      },
      "source": [
        "## Part 2: Polynomial Interpolation Using Newton's Divided Difference Form\n",
        "---\n"
      ]
    },
    {
      "cell_type": "markdown",
      "metadata": {
        "deletable": false,
        "editable": false,
        "id": "AgAbn67kPlvj",
        "nbgrader": {
          "cell_type": "markdown",
          "checksum": "030540dd5ee10acfca978c35d1e76cb8",
          "grade": false,
          "grade_id": "cell-95fa6d3532e84eff",
          "locked": true,
          "schema_version": 3,
          "solution": false,
          "task": false
        }
      },
      "source": [
        "### Newton's Divided Difference Form\n",
        "\n",
        "Newton form of a $n$ degree polynomial:\n",
        "\n",
        "$$p_n(x) = \\sum_{k=0}^{n} a_kn_k(x),$$\n",
        "where the basis is:\n",
        "$$n_k(x) = \\prod_{j=0}^{k-1}(x-x_j),$$\n",
        "$$ n_0(x)=1,$$\n",
        "\n",
        "and the coefficients are: $$a_k = f[x_0, x_1, ..., x_k],$$\n",
        "\n",
        "where the notation $f[x_0, x_1,\\dots,x_k]$ denotes the divided difference.\n",
        "\n",
        "By expanding the Newton form, we get:\n",
        "\n",
        "$$p(x) = f [x_0] + (x-x_0) f[x_0,x_1] + (x-x_0) (x-x_1) f[x_0,x_1,x_2] + \\dots + (x-x_0) (x-x_1) \\dots (x-x_{k-1}) f[x_0, x_1, \\dots, x_k]$$\n",
        "\n",
        "\n",
        "## Task 2 - 2 Marks:\n",
        "1. Complete the `calc_div_diff(x,y)` function which takes input `x` and `y`, and calculates all the divided differences. You may use the lambda function `difference()` inside the `calc_div_diff(x,y)` function to calculate the divided differences.\n",
        "\n",
        "2. Complete the `__call__()` function which takes an input `x`, and calculates `y` using all the difference coefficients. `x` can be a single value or a numpy. In this case, it is a numpy array.\n",
        "\n",
        "`res` variable must contain all results (corresponding y for x)."
      ]
    },
    {
      "cell_type": "code",
      "execution_count": null,
      "metadata": {
        "deletable": false,
        "id": "HZhqt-6JPlvj",
        "nbgrader": {
          "cell_type": "code",
          "checksum": "abd6bbf6334a986a608c38206f702989",
          "grade": false,
          "grade_id": "cell-fbe4c16afb6b3b32",
          "locked": false,
          "schema_version": 3,
          "solution": true,
          "task": false
        }
      },
      "outputs": [],
      "source": [
        "# basic rule for calculating the difference, implanted in the lambda function.\n",
        "# You may use it if you wish\n",
        "difference = lambda y2, y1, x2, x1: (y2-y1)/(x2-x1)\n",
        "\n",
        "def calc_div_diff(x,y):\n",
        "    assert(len(x)==len(y))\n",
        "    #write this function to calculate all the divided differences in the list 'b'\n",
        "    n = len(x)\n",
        "    coef = np.zeros((n,n))  #initializing\n",
        "    coef[:,0]=y\n",
        "    for j in range(1,n):\n",
        "      for i in range(n-j):\n",
        "        coef[i,j]=(coef[i+1,j-1]-coef[i,j-1])/(x[i+j]-x[i])\n",
        "    print(coef)\n",
        "\n",
        "\n",
        "    #----------------------------------------------\n",
        "\n",
        "    return coef[0]"
      ]
    },
    {
      "cell_type": "code",
      "execution_count": null,
      "metadata": {
        "deletable": false,
        "editable": false,
        "id": "FancUC_xPlvk",
        "nbgrader": {
          "cell_type": "code",
          "checksum": "a23dd58fcab86885a166b1e138b9ea08",
          "grade": true,
          "grade_id": "cell-72b9329c6c32517e",
          "locked": true,
          "points": 5,
          "schema_version": 3,
          "solution": false,
          "task": false
        },
        "colab": {
          "base_uri": "https://localhost:8080/"
        },
        "outputId": "eb46b6b7-5cd7-4975-e64f-d6aba1f7efd7"
      },
      "outputs": [
        {
          "output_type": "stream",
          "name": "stdout",
          "text": [
            "[[-60.         -20.          53.         -32.83333333  14.04166667\n",
            "   -3.46527778   0.72321429]\n",
            " [-80.          86.         -45.5         23.33333333  -6.75\n",
            "    1.59722222   0.        ]\n",
            " [  6.          -5.          24.5        -10.41666667   2.83333333\n",
            "    0.           0.        ]\n",
            " [  1.          44.         -17.16666667   3.75         0.\n",
            "    0.           0.        ]\n",
            " [ 45.          -7.5         -2.16666667   0.           0.\n",
            "    0.           0.        ]\n",
            " [ 30.         -14.           0.           0.           0.\n",
            "    0.           0.        ]\n",
            " [ 16.           0.           0.           0.           0.\n",
            "    0.           0.        ]]\n"
          ]
        }
      ],
      "source": [
        "data_x = [-3.,-2.,-1.,0.,1.,3.,4.]\n",
        "data_y = [-60.,-80.,6.,1.,45.,30.,16.]\n",
        "\n",
        "test = calc_div_diff(data_x, data_y)\n",
        "\n",
        "assert len(test) == len(data_x)"
      ]
    },
    {
      "cell_type": "code",
      "source": [
        "np.testing.assert_array_equal([-60.0,-20.0,53.0,-32.833333333333336,14.041666666666668,-3.465277777777778,0.7232142857142857], test)"
      ],
      "metadata": {
        "id": "Xx5MbnIhFVfG"
      },
      "execution_count": null,
      "outputs": []
    },
    {
      "cell_type": "code",
      "execution_count": null,
      "metadata": {
        "deletable": false,
        "id": "iLUOVj3APlvj",
        "nbgrader": {
          "cell_type": "code",
          "checksum": "50cdde63e49e009a199201f86744564a",
          "grade": false,
          "grade_id": "cell-9e446c528b62c87f",
          "locked": false,
          "schema_version": 3,
          "solution": true,
          "task": false
        }
      },
      "outputs": [],
      "source": [
        "class Newtons_Divided_Differences:\n",
        "\n",
        "    def __init__(self, differences, data_x):\n",
        "        self.differences = differences\n",
        "        self.data_x = data_x\n",
        "\n",
        "    def n(self, k, x):\n",
        "\n",
        "        result = 1\n",
        "        for i in range(k):\n",
        "          result*=x-self.data_x[i]\n",
        "\n",
        "        return result\n",
        "\n",
        "    def __call__(self, x):\n",
        "        '''\n",
        "        this function is for calculating y from given x using all the difference coefficients\n",
        "        x can be a single value or a numpy\n",
        "        the formula being used:\n",
        "        f(x) = f [x0] + (x-x0) f[x0,x1] + (x-x0) (x-x1) f[x0,x1,x2] + . . . + (x-x0) (x-x1) . . . (x-xk-1) f[x0, x1, . . ., xk]\n",
        "\n",
        "        work on this after implementing 'calc_div_diff'. Then you should have\n",
        "        f[x0], f[x0,x1]. . . . . ., f[x0, x1, . . ., xk] stored in self.differences\n",
        "\n",
        "        'res' variable must return all the results (corresponding y for x)\n",
        "        '''\n",
        "\n",
        "        res = np.zeros(len(x)) #Initialization to avoid runtime error. You can change this line if you wish\n",
        "        for i in range(len(self.differences)):\n",
        "          res+=self.differences[i]*self.n(i,x)\n",
        "\n",
        "\n",
        "        #----------------------------------------------\n",
        "\n",
        "        return res"
      ]
    },
    {
      "cell_type": "markdown",
      "metadata": {
        "deletable": false,
        "editable": false,
        "id": "affgKuuNPlvk",
        "nbgrader": {
          "cell_type": "markdown",
          "checksum": "e2b6e9e71eaf31b857393044c2768ac0",
          "grade": false,
          "grade_id": "cell-f6a9f264b02b2642",
          "locked": true,
          "schema_version": 3,
          "solution": false,
          "task": false
        }
      },
      "source": [
        "### Plotting the polynomial\n",
        "* `data_x` and `data_y` are the coordinates of the given nodes.\n",
        "\n",
        "* `differences` is a list which contains the divided differences as each of its elements: $f[x_0], f[x_0,x_1], f[x_0,x_1,x_2], \\dots$\n",
        "\n",
        "* `obj` is an object of type `Newtons_Divided_Differences`. Creating the object runs the constructor of the class where the `difference` are stored in `self.differences`.\n",
        "\n",
        "* `X` contains $x_i$ values through which we want to plot our polynomial.\n",
        "\n",
        "* Calling the object using `obj(X)` executes the `__call__()` function of the class, which returns a numpy array containing the corresponding $y_i$ values, and storing them in variable `F`.\n",
        "\n",
        "* Using `plt.plot(X,F)`, we plot the $(x_i, y_i)$ pairs of the polynomial."
      ]
    },
    {
      "cell_type": "code",
      "source": [
        "import numpy as np\n",
        "import matplotlib.pyplot as plt\n",
        "\n",
        "data_x = np.array([-5.,-1,-0.5,0.5,3.5,7.,9])\n",
        "data_y = np.array([-30., -50., 36., 31., 75., 60., 46.])\n",
        "differences = calc_div_diff(list(data_x), list(data_y))\n",
        "p = Newtons_Divided_Differences(list(differences),data_x)\n",
        "test_x = np.linspace(-7, 10, 50, endpoint=True)\n",
        "test_y = p(test_x)\n",
        "\n",
        "#generating 50 points from -7 to 10 in order to create a smooth line\n",
        "plt.plot(test_x, test_y)\n",
        "plt.plot(data_x, data_y, 'ro')\n",
        "plt.show()"
      ],
      "metadata": {
        "id": "X9lS66ATFFgM",
        "colab": {
          "base_uri": "https://localhost:8080/",
          "height": 901
        },
        "outputId": "f295287b-dcfb-4b1c-dd7a-ce66a5ac599c"
      },
      "execution_count": null,
      "outputs": [
        {
          "output_type": "stream",
          "name": "stdout",
          "text": [
            "[[-3.00000000e+01 -5.00000000e+00  3.93333333e+01 -2.86060606e+01\n",
            "   6.57892652e+00 -8.43651555e-01  8.65809514e-02]\n",
            " [-5.00000000e+01  1.72000000e+02 -1.18000000e+02  2.73148148e+01\n",
            "  -3.54489214e+00  3.68481765e-01  0.00000000e+00]\n",
            " [ 3.60000000e+01 -5.00000000e+00  4.91666667e+00 -1.04432234e+00\n",
            "   1.39925503e-01  0.00000000e+00  0.00000000e+00]\n",
            " [ 3.10000000e+01  1.46666667e+01 -2.91575092e+00  2.84969932e-01\n",
            "   0.00000000e+00  0.00000000e+00  0.00000000e+00]\n",
            " [ 7.50000000e+01 -4.28571429e+00 -4.93506494e-01  0.00000000e+00\n",
            "   0.00000000e+00  0.00000000e+00  0.00000000e+00]\n",
            " [ 6.00000000e+01 -7.00000000e+00  0.00000000e+00  0.00000000e+00\n",
            "   0.00000000e+00  0.00000000e+00  0.00000000e+00]\n",
            " [ 4.60000000e+01  0.00000000e+00  0.00000000e+00  0.00000000e+00\n",
            "   0.00000000e+00  0.00000000e+00  0.00000000e+00]]\n",
            "[ 1.91596033e+04  1.31559256e+04  8.56170186e+03  5.12699700e+03\n",
            "  2.63391150e+03  8.93915843e+02 -2.54706325e+02 -9.49306214e+02\n",
            " -1.30520928e+03 -1.41794588e+03 -1.36537320e+03 -1.20968853e+03\n",
            " -9.99333725e+02 -7.70791092e+02 -5.50270437e+02 -3.55287482e+02\n",
            " -1.96133541e+02 -7.72364950e+01  1.58695188e+00  4.39877195e+01\n",
            "  5.60495129e+01  4.53626937e+01  2.02068613e+01 -1.11578542e+01\n",
            " -4.10907896e+01 -6.30620348e+01 -7.20350085e+01 -6.47403240e+01\n",
            " -3.98409435e+01  2.01137807e+00  5.82283589e+01  1.24446168e+02\n",
            "  1.94795113e+02  2.62278038e+02  3.19257433e+02  3.58051252e+02\n",
            "  3.71637446e+02  3.54467202e+02  3.03386893e+02  2.18668743e+02\n",
            "  1.05150197e+02 -2.65179947e+01 -1.58514983e+02 -2.64384316e+02\n",
            " -3.07459722e+02 -2.39182188e+02  2.69168134e+00  4.95990006e+02\n",
            "  1.33613469e+03  2.63825919e+03]\n"
          ]
        },
        {
          "output_type": "display_data",
          "data": {
            "text/plain": [
              "<Figure size 640x480 with 1 Axes>"
            ],
            "image/png": "[encoded data removed]"
          },
          "metadata": {}
        }
      ]
    }
  ],
  "metadata": {
    "colab": {
      "provenance": [],
      "collapsed_sections": [
        "t6HuHqs8Plva",
        "PPIUqb63Plvc"
      ]
    },
    "kernelspec": {
      "display_name": "Python 3",
      "language": "python",
      "name": "python3"
    },
    "language_info": {
      "codemirror_mode": {
        "name": "ipython",
        "version": 3
      },
      "file_extension": ".py",
      "mimetype": "text/x-python",
      "name": "python",
      "nbconvert_exporter": "python",
      "pygments_lexer": "ipython3",
      "version": "3.9.1"
    }
  },
  "nbformat": 4,
  "nbformat_minor": 0
}